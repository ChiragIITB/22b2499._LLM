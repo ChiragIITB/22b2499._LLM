{
 "cells": [
  {
   "cell_type": "markdown",
   "id": "e64082d2",
   "metadata": {},
   "source": [
    "# Stemming \n"
   ]
  },
  {
   "cell_type": "code",
   "execution_count": 8,
   "id": "93e013e0",
   "metadata": {},
   "outputs": [],
   "source": [
    "## Say Classification Problem\n",
    "## Comments on product is a positive review or negative review\n",
    "## Reviews ---> say eating, eat, eaten ----> eat = root/stem word \n",
    "\n",
    "\n",
    "words = [\"Eating\", \"eat\", \" writing\", \"writes\", \"programming\", \"Programs\", \"history\", \"finally\", \"final\"]"
   ]
  },
  {
   "cell_type": "markdown",
   "id": "f37dadfb",
   "metadata": {},
   "source": [
    "### PorterStemmer\n"
   ]
  },
  {
   "cell_type": "code",
   "execution_count": 9,
   "id": "c830d2c8",
   "metadata": {},
   "outputs": [],
   "source": [
    "from nltk.stem import PorterStemmer"
   ]
  },
  {
   "cell_type": "code",
   "execution_count": 14,
   "id": "8384c9eb",
   "metadata": {},
   "outputs": [],
   "source": [
    "stemming = PorterStemmer()"
   ]
  },
  {
   "cell_type": "code",
   "execution_count": 15,
   "id": "3a03ce83",
   "metadata": {},
   "outputs": [
    {
     "name": "stdout",
     "output_type": "stream",
     "text": [
      "Eating---->eat\n",
      "eat---->eat\n",
      " writing----> write\n",
      "writes---->write\n",
      "programming---->program\n",
      "Programs---->program\n",
      "history---->histori\n",
      "finally---->final\n",
      "final---->final\n"
     ]
    }
   ],
   "source": [
    "for word in words: \n",
    "    print(word+\"---->\"+stemming.stem(word))"
   ]
  },
  {
   "cell_type": "markdown",
   "id": "f66155f1",
   "metadata": {},
   "source": [
    "Major Disadvantage of stemming :\n",
    "\n",
    "\n",
    " -- Meaning of some words might not remain the same\n",
    " \n",
    " Example : history ---> histori\n",
    "\n"
   ]
  },
  {
   "cell_type": "code",
   "execution_count": 16,
   "id": "569518f2",
   "metadata": {},
   "outputs": [
    {
     "data": {
      "text/plain": [
       "'congratul'"
      ]
     },
     "execution_count": 16,
     "metadata": {},
     "output_type": "execute_result"
    }
   ],
   "source": [
    "stemming.stem('congratulations')"
   ]
  },
  {
   "cell_type": "markdown",
   "id": "8057e1ee",
   "metadata": {},
   "source": [
    "# RegexpStemmer Class\n",
    "\n",
    "NLTK has RegexpStemmer class with the help of which we can easily implement Regular Expression Stemmer alogrithm. It basically takes a single regular expression and removes any prefix or suffix that matches the expression. Let us see an example."
   ]
  },
  {
   "cell_type": "code",
   "execution_count": 17,
   "id": "a9cb46ac",
   "metadata": {},
   "outputs": [],
   "source": [
    "from nltk.stem import RegexpStemmer"
   ]
  },
  {
   "cell_type": "code",
   "execution_count": 21,
   "id": "c86efab7",
   "metadata": {},
   "outputs": [],
   "source": [
    "reg_stemmer = RegexpStemmer('ing$|s$|e$|abke$', min=4)\n",
    "## $ remove ing only from the end of the word"
   ]
  },
  {
   "cell_type": "code",
   "execution_count": 22,
   "id": "a6430fbb",
   "metadata": {},
   "outputs": [
    {
     "data": {
      "text/plain": [
       "'eat'"
      ]
     },
     "execution_count": 22,
     "metadata": {},
     "output_type": "execute_result"
    }
   ],
   "source": [
    "reg_stemmer.stem('eating')"
   ]
  },
  {
   "cell_type": "code",
   "execution_count": 23,
   "id": "1c2c6311",
   "metadata": {},
   "outputs": [
    {
     "data": {
      "text/plain": [
       "'ingeat'"
      ]
     },
     "execution_count": 23,
     "metadata": {},
     "output_type": "execute_result"
    }
   ],
   "source": [
    "reg_stemmer.stem('ingeating')"
   ]
  },
  {
   "cell_type": "markdown",
   "id": "afe0aaac",
   "metadata": {},
   "source": [
    "### Snowball Stemmer"
   ]
  },
  {
   "cell_type": "code",
   "execution_count": 24,
   "id": "a4f559b3",
   "metadata": {},
   "outputs": [],
   "source": [
    "## again a stemmer technique\n",
    "\n",
    "from nltk.stem import SnowballStemmer"
   ]
  },
  {
   "cell_type": "code",
   "execution_count": 25,
   "id": "289bda6c",
   "metadata": {},
   "outputs": [],
   "source": [
    "snowballStemmer = SnowballStemmer('english')\n"
   ]
  },
  {
   "cell_type": "code",
   "execution_count": 26,
   "id": "5dd1e6e9",
   "metadata": {},
   "outputs": [
    {
     "name": "stdout",
     "output_type": "stream",
     "text": [
      "Eating---->eat\n",
      "eat---->eat\n",
      " writing----> write\n",
      "writes---->write\n",
      "programming---->program\n",
      "Programs---->program\n",
      "history---->histori\n",
      "finally---->final\n",
      "final---->final\n"
     ]
    }
   ],
   "source": [
    "for word in words: \n",
    "    print(word + \"---->\"+ snowballStemmer.stem(word))"
   ]
  },
  {
   "cell_type": "code",
   "execution_count": null,
   "id": "1c1ece78",
   "metadata": {},
   "outputs": [],
   "source": []
  }
 ],
 "metadata": {
  "kernelspec": {
   "display_name": "Python 3 (ipykernel)",
   "language": "python",
   "name": "python3"
  },
  "language_info": {
   "codemirror_mode": {
    "name": "ipython",
    "version": 3
   },
   "file_extension": ".py",
   "mimetype": "text/x-python",
   "name": "python",
   "nbconvert_exporter": "python",
   "pygments_lexer": "ipython3",
   "version": "3.11.3"
  }
 },
 "nbformat": 4,
 "nbformat_minor": 5
}
