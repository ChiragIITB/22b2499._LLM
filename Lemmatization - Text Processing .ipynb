{
 "cells": [
  {
   "cell_type": "markdown",
   "id": "9b6271d3",
   "metadata": {},
   "source": [
    "# Wordnet Lemmatizer\n",
    "\n",
    "Lemmatization is like stemming. \n",
    "The output is caled 'lemma', which is the root word.\n",
    "After this, we get a valid word which means the same thing.\n",
    "\n",
    "NTLK provides WordNetLemmatizer class which is a thin wrapper around the wordnet corpus. This class uses morphy() function to the WordNet CorpusReader class to find a lemma. \n",
    "\n",
    "Lemmatization takes more time compared to stemming.\n",
    "\n",
    "Use cases : \n",
    "\n",
    "1. Q&A\n",
    "2. Chatbot, \n",
    "3. Text summarization, etc\n"
   ]
  },
  {
   "cell_type": "code",
   "execution_count": 17,
   "id": "ef963fc1",
   "metadata": {},
   "outputs": [
    {
     "name": "stderr",
     "output_type": "stream",
     "text": [
      "[nltk_data] Downloading package wordnet to C:\\Users\\Chirag\n",
      "[nltk_data]     Sharma\\AppData\\Roaming\\nltk_data...\n",
      "[nltk_data]   Package wordnet is already up-to-date!\n",
      "[nltk_data] Downloading package omw-1.4 to C:\\Users\\Chirag\n",
      "[nltk_data]     Sharma\\AppData\\Roaming\\nltk_data...\n",
      "[nltk_data]   Package omw-1.4 is already up-to-date!\n"
     ]
    }
   ],
   "source": [
    "import nltk \n",
    "nltk.download('wordnet')\n",
    "nltk.download('omw-1.4')\n",
    "from nltk.stem import WordNetLemmatizer"
   ]
  },
  {
   "cell_type": "code",
   "execution_count": 18,
   "id": "1ab745aa",
   "metadata": {},
   "outputs": [],
   "source": [
    "lemmatizer = WordNetLemmatizer()"
   ]
  },
  {
   "cell_type": "code",
   "execution_count": 23,
   "id": "5f6753f3",
   "metadata": {},
   "outputs": [
    {
     "data": {
      "text/plain": [
       "'going'"
      ]
     },
     "execution_count": 23,
     "metadata": {},
     "output_type": "execute_result"
    }
   ],
   "source": [
    "'''\n",
    "POS : -\n",
    "\n",
    "Noun - n\n",
    "verb - b\n",
    "adjective - a\n",
    "adverb - r\n",
    "'''\n",
    "lemmatizer.lemmatize(\"going\", pos = 'n')  "
   ]
  },
  {
   "cell_type": "code",
   "execution_count": 24,
   "id": "d4265b2d",
   "metadata": {},
   "outputs": [],
   "source": [
    "words = [\"Eating\", \"eat\", \" writing\", \"writes\", \"programming\", \"Programs\", \"history\", \"finally\", \"final\"]"
   ]
  },
  {
   "cell_type": "code",
   "execution_count": 25,
   "id": "a2169610",
   "metadata": {},
   "outputs": [
    {
     "name": "stdout",
     "output_type": "stream",
     "text": [
      "Eating---->Eating\n",
      "eat---->eat\n",
      " writing----> writing\n",
      "writes---->writes\n",
      "programming---->programming\n",
      "Programs---->Programs\n",
      "history---->history\n",
      "finally---->finally\n",
      "final---->final\n"
     ]
    }
   ],
   "source": [
    "for word in words: \n",
    "    print(word+\"---->\"+lemmatizer.lemmatize(word))"
   ]
  },
  {
   "cell_type": "code",
   "execution_count": 27,
   "id": "d12e18a3",
   "metadata": {},
   "outputs": [
    {
     "data": {
      "text/plain": [
       "('fairly', 'sportingly')"
      ]
     },
     "execution_count": 27,
     "metadata": {},
     "output_type": "execute_result"
    }
   ],
   "source": [
    "lemmatizer.lemmatize('fairly', pos = \"v\"), lemmatizer.lemmatize('sportingly', pos='v')"
   ]
  },
  {
   "cell_type": "code",
   "execution_count": null,
   "id": "d47f10fe",
   "metadata": {},
   "outputs": [],
   "source": []
  },
  {
   "cell_type": "code",
   "execution_count": null,
   "id": "4b6f9248",
   "metadata": {},
   "outputs": [],
   "source": []
  }
 ],
 "metadata": {
  "kernelspec": {
   "display_name": "Python 3 (ipykernel)",
   "language": "python",
   "name": "python3"
  },
  "language_info": {
   "codemirror_mode": {
    "name": "ipython",
    "version": 3
   },
   "file_extension": ".py",
   "mimetype": "text/x-python",
   "name": "python",
   "nbconvert_exporter": "python",
   "pygments_lexer": "ipython3",
   "version": "3.11.3"
  }
 },
 "nbformat": 4,
 "nbformat_minor": 5
}
